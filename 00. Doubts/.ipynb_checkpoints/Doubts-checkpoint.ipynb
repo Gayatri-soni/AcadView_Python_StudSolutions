{
 "cells": [
  {
   "cell_type": "markdown",
   "metadata": {},
   "source": [
    "### Write a program to access each character of string in forward and backward direction"
   ]
  },
  {
   "cell_type": "code",
   "execution_count": 2,
   "metadata": {},
   "outputs": [
    {
     "name": "stdout",
     "output_type": "stream",
     "text": [
      "Forward direction\n",
      "C h a i   p i   l o   f r a n d s ! ! \n",
      "Backward direction\n",
      "! ! s d n a r f   o l   i p   i a h C "
     ]
    }
   ],
   "source": [
    "\n",
    "s = \"Chai pi lo frands!!\"\n",
    "n=len(s)\n",
    "i=0\n",
    "print(\"Forward direction\")\n",
    "while i<n:\n",
    "    print(s[i],end=' ')\n",
    "    i +=1\n",
    "print()\n",
    "print(\"Backward direction\")\n",
    "i=-1\n",
    "while i>=-n:\n",
    "    print(s[i],end=' ')\n",
    "    i=i-1"
   ]
  },
  {
   "cell_type": "code",
   "execution_count": 3,
   "metadata": {},
   "outputs": [
    {
     "name": "stdout",
     "output_type": "stream",
     "text": [
      "Forward direction\n",
      "C h a i   p i   l o   f r a n d s ! ! \n",
      "Backward direction\n",
      "! ! s d n a r f   o l   i p   i a h C "
     ]
    }
   ],
   "source": [
    "s = \"Chai pi lo frands!!\"\n",
    "print(\"Forward direction\")\n",
    "for i in s[::]:\n",
    "    print(i, end = ' ')\n",
    "    \n",
    "print()\n",
    "\n",
    "print('Backward direction')\n",
    "for i in s[::-1]:\n",
    "    print(i, end = ' ')"
   ]
  },
  {
   "cell_type": "code",
   "execution_count": null,
   "metadata": {},
   "outputs": [],
   "source": []
  }
 ],
 "metadata": {
  "kernelspec": {
   "display_name": "Python 3",
   "language": "python",
   "name": "python3"
  },
  "language_info": {
   "codemirror_mode": {
    "name": "ipython",
    "version": 3
   },
   "file_extension": ".py",
   "mimetype": "text/x-python",
   "name": "python",
   "nbconvert_exporter": "python",
   "pygments_lexer": "ipython3",
   "version": "3.6.0"
  }
 },
 "nbformat": 4,
 "nbformat_minor": 2
}
