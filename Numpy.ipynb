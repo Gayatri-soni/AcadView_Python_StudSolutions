{
 "cells": [
  {
   "cell_type": "markdown",
   "metadata": {},
   "source": [
    "# Solutions to Assignment 2\n",
    "\n",
    "\n",
    "### 1. Create a numpy array with 10 elements of the shape(10,1) using np.random and find out the mean of the elements using basic numpy functions."
   ]
  },
  {
   "cell_type": "code",
   "execution_count": 1,
   "metadata": {
    "collapsed": true
   },
   "outputs": [],
   "source": [
    "import numpy as np"
   ]
  },
  {
   "cell_type": "code",
   "execution_count": 2,
   "metadata": {
    "collapsed": true
   },
   "outputs": [],
   "source": [
    "##Create numpy array\n",
    "array = np.random.rand(10,1)"
   ]
  },
  {
   "cell_type": "code",
   "execution_count": 3,
   "metadata": {},
   "outputs": [
    {
     "name": "stdout",
     "output_type": "stream",
     "text": [
      "[[ 0.44755504]\n",
      " [ 0.03195737]\n",
      " [ 0.84541872]\n",
      " [ 0.56687559]\n",
      " [ 0.43799034]\n",
      " [ 0.10063683]\n",
      " [ 0.31099462]\n",
      " [ 0.25262361]\n",
      " [ 0.49082538]\n",
      " [ 0.70747429]]\n"
     ]
    }
   ],
   "source": [
    "print (array)"
   ]
  },
  {
   "cell_type": "code",
   "execution_count": 4,
   "metadata": {},
   "outputs": [
    {
     "name": "stdout",
     "output_type": "stream",
     "text": [
      "0.419235179528\n"
     ]
    }
   ],
   "source": [
    "##Find mean and print value\n",
    "print(array.mean())"
   ]
  },
  {
   "cell_type": "markdown",
   "metadata": {},
   "source": [
    "### 2. Create a numpy array with 20 elements of the shape(20,1) using np.random  find the variance and standard deviation of the elements.\n"
   ]
  },
  {
   "cell_type": "code",
   "execution_count": 5,
   "metadata": {},
   "outputs": [
    {
     "data": {
      "text/plain": [
       "array([[ 0.66350383],\n",
       "       [ 0.41588268],\n",
       "       [ 0.22658189],\n",
       "       [ 0.45428465],\n",
       "       [ 0.92762679],\n",
       "       [ 0.95884851],\n",
       "       [ 0.10809027],\n",
       "       [ 0.91365145],\n",
       "       [ 0.58632468],\n",
       "       [ 0.56571219],\n",
       "       [ 0.33125951],\n",
       "       [ 0.72725255],\n",
       "       [ 0.40233334],\n",
       "       [ 0.76284125],\n",
       "       [ 0.29374283],\n",
       "       [ 0.53148146],\n",
       "       [ 0.83714089],\n",
       "       [ 0.27428337],\n",
       "       [ 0.71764915],\n",
       "       [ 0.46209006]])"
      ]
     },
     "execution_count": 5,
     "metadata": {},
     "output_type": "execute_result"
    }
   ],
   "source": [
    "##Create numpy array\n",
    "array = np.random.rand(20,1)\n",
    "array"
   ]
  },
  {
   "cell_type": "code",
   "execution_count": 6,
   "metadata": {
    "collapsed": true
   },
   "outputs": [],
   "source": [
    "#Variance\n",
    "variance = array.std()\n",
    "\n",
    "#Standard Deviation\n",
    "standard_deviation = (array - array.mean())/variance"
   ]
  },
  {
   "cell_type": "code",
   "execution_count": 7,
   "metadata": {},
   "outputs": [
    {
     "name": "stdout",
     "output_type": "stream",
     "text": [
      "Variance : 0.243811538 \n",
      "\n",
      "Standard Deviation :\n",
      " [[ 0.43260774]\n",
      " [-0.58301746]\n",
      " [-1.35944007]\n",
      " [-0.42551068]\n",
      " [ 1.51591563]\n",
      " [ 1.64397241]\n",
      " [-1.84543687]\n",
      " [ 1.45859539]\n",
      " [ 0.11605526]\n",
      " [ 0.03151254]\n",
      " [-0.93010181]\n",
      " [ 0.69407496]\n",
      " [-0.63859049]\n",
      " [ 0.84004302]\n",
      " [-1.08397758]\n",
      " [-0.10888579]\n",
      " [ 1.14478512]\n",
      " [-1.16379109]\n",
      " [ 0.65468634]\n",
      " [-0.39349656]]\n"
     ]
    }
   ],
   "source": [
    "#Print the values\n",
    "print('Variance : {} \\n\\nStandard Deviation :\\n {}'.format(variance, standard_deviation))"
   ]
  },
  {
   "cell_type": "markdown",
   "metadata": {},
   "source": [
    "### 3.Create a numpy array A of shape(10,20) and B of shape (20,25) using np.random. Print the matrix which is the matrix multiplication of A and B. The shape of the new matrix should be (10,25). Using basic numpy math functions only find the sum of all the elements of the new matrix.\n"
   ]
  },
  {
   "cell_type": "code",
   "execution_count": 8,
   "metadata": {
    "collapsed": true
   },
   "outputs": [],
   "source": [
    "##Create arrays A and B\n",
    "A = np.random.rand(10,20)\n",
    "B = np.random.rand(20, 25)"
   ]
  },
  {
   "cell_type": "code",
   "execution_count": 9,
   "metadata": {
    "collapsed": true
   },
   "outputs": [],
   "source": [
    "##Perform matrix multiplication using np.matmul\n",
    "matrix_mul = np.matmul(A,B)"
   ]
  },
  {
   "cell_type": "code",
   "execution_count": 10,
   "metadata": {},
   "outputs": [
    {
     "name": "stdout",
     "output_type": "stream",
     "text": [
      "[[ 5.11832426  5.24858784  5.17696395  4.75059187  3.15755809  5.60295853\n",
      "   4.08230752  5.29167852  4.15226889  4.42894882  4.74771476  4.81433307\n",
      "   5.06788893  4.63380134  3.99228705  4.98629219  5.55927108  4.35574979\n",
      "   4.193556    4.06539528  5.32374799  4.36030723  3.43488434  3.75118949\n",
      "   5.24617768]\n",
      " [ 5.08989678  5.39966004  6.5927278   5.28852981  4.01191987  5.36579605\n",
      "   5.21022738  5.78260952  4.59323816  5.27665384  4.33748249  4.97544942\n",
      "   5.58535177  4.61225703  4.27032182  5.69806679  6.27074965  4.69396144\n",
      "   4.00587535  5.04701677  5.10870739  5.31182236  4.78805726  4.01868073\n",
      "   5.55400489]\n",
      " [ 4.46008168  4.87967946  6.07833379  5.03742939  2.96139681  5.14102859\n",
      "   3.49658118  4.98032946  3.52550792  4.86970125  4.69820935  4.48867497\n",
      "   5.10871876  4.47454773  3.84478105  4.5336781   5.5241455   3.63575186\n",
      "   3.65686074  4.24064615  5.613915    3.97980823  3.98501998  3.54592181\n",
      "   3.9806024 ]\n",
      " [ 5.80718981  6.4159225   7.24641291  6.32596401  4.57122913  6.62749845\n",
      "   5.41421751  6.58269761  5.67861379  5.81519179  6.24815286  6.73155019\n",
      "   6.91850792  5.55473295  5.00874155  6.26976902  7.26047126  5.93162628\n",
      "   5.17317818  5.49409993  6.4440351   5.7156389   5.17690915  5.0031827\n",
      "   6.29457034]\n",
      " [ 6.04156244  6.28888064  6.94319577  6.72363077  4.32682325  6.5257013\n",
      "   5.53583705  6.56518849  4.68215983  6.04857434  5.3389547   5.12056719\n",
      "   6.59457558  4.68242131  4.43775672  6.61542002  7.12367948  5.28701379\n",
      "   4.73526022  5.79541985  5.57591802  5.45628894  4.73470543  5.31337746\n",
      "   5.50463543]\n",
      " [ 4.44041685  4.23170296  6.2784948   4.77469825  2.82060919  4.92012693\n",
      "   4.43053588  4.81718443  3.98831965  4.58247724  4.0025586   4.70825341\n",
      "   4.65197447  3.99965598  3.60056463  5.02372866  5.78294343  3.82309079\n",
      "   3.53732606  4.67715859  5.00974896  4.65960428  4.25716861  3.29378215\n",
      "   4.89133438]\n",
      " [ 5.66994069  5.26186305  6.99914826  5.98922271  3.99413475  5.48927824\n",
      "   4.6425908   5.4388115   4.92176704  6.35215328  5.11406837  5.29225369\n",
      "   6.28992248  5.17418546  4.12847211  5.77917847  6.53384882  4.23930743\n",
      "   3.27903503  5.53735178  5.81709696  5.42084197  4.75251417  4.5441586\n",
      "   5.64462264]\n",
      " [ 5.87083489  6.57060905  7.73608339  7.50643235  5.25180486  6.6227204\n",
      "   5.59609608  7.05549275  5.81618071  6.72151293  5.58229358  6.60936721\n",
      "   8.03760033  5.95000169  4.75290377  6.80064857  7.78108923  5.77924955\n",
      "   4.46828451  6.62898988  6.66696844  6.6558879   6.03357417  5.33132288\n",
      "   6.38486342]\n",
      " [ 4.65075651  4.90270565  5.52725426  4.74991229  3.43734961  4.47952082\n",
      "   4.22973025  4.85290069  4.20388696  4.74299906  3.94328715  5.1010862\n",
      "   4.98015137  3.73919963  3.55957797  4.93167075  5.41081735  4.03508008\n",
      "   3.55816406  4.78784232  4.73051629  4.77014759  4.35157939  3.55967671\n",
      "   4.86279244]\n",
      " [ 6.51104103  5.69680478  7.57475809  5.97536279  4.05628531  6.4716484\n",
      "   5.21550315  5.88818852  5.07234332  7.18311861  5.28161477  5.1142292\n",
      "   6.9327071   4.7706843   4.22895667  6.50819162  6.66963751  4.64680129\n",
      "   3.73622876  6.23109874  6.37771082  6.02738214  5.17446794  4.05749681\n",
      "   5.23138599]]\n"
     ]
    }
   ],
   "source": [
    "print (matrix_mul)"
   ]
  },
  {
   "cell_type": "code",
   "execution_count": 11,
   "metadata": {},
   "outputs": [
    {
     "data": {
      "text/plain": [
       "(10L, 25L)"
      ]
     },
     "execution_count": 11,
     "metadata": {},
     "output_type": "execute_result"
    }
   ],
   "source": [
    "##Check the shape of the matrix\n",
    "matrix_mul.shape"
   ]
  },
  {
   "cell_type": "code",
   "execution_count": 12,
   "metadata": {},
   "outputs": [
    {
     "name": "stdout",
     "output_type": "stream",
     "text": [
      "1299.333145\n"
     ]
    }
   ],
   "source": [
    "##Sum of all elements\n",
    "sum_m = matrix_mul.sum() \n",
    "\n",
    "##Print sum\n",
    "print sum_m"
   ]
  },
  {
   "cell_type": "markdown",
   "metadata": {},
   "source": [
    "### 4.Create a numpy array A of shape(10,1).Using the basic operations of the numpy array generate an array of shape(10,1) such that each element is the following function applied on each element of A.\n",
    "\n",
    "### f(x)=1 / (1 + exp(-x)) \n",
    "### Apply this function to each element of A and print the new array holding the value the function returns\n",
    "\n",
    "Ex.\n",
    "a=[a1,a2,a3]   \n",
    "n(new array to be printed )=[ f(a1), f(a2), f(a3)]\n"
   ]
  },
  {
   "cell_type": "code",
   "execution_count": 13,
   "metadata": {},
   "outputs": [
    {
     "name": "stdout",
     "output_type": "stream",
     "text": [
      "[[ 0.05946117]\n",
      " [ 0.78458076]\n",
      " [ 0.49227511]\n",
      " [ 0.02754604]\n",
      " [ 0.18800825]\n",
      " [ 0.03439194]\n",
      " [ 0.04794942]\n",
      " [ 0.86754315]\n",
      " [ 0.25069869]\n",
      " [ 0.56917188]]\n"
     ]
    }
   ],
   "source": [
    "##Create numpy array A\n",
    "A = np.random.rand(10,1)\n",
    "print A"
   ]
  },
  {
   "cell_type": "code",
   "execution_count": 14,
   "metadata": {
    "collapsed": true
   },
   "outputs": [],
   "source": [
    "## Define the function to be applied\n",
    "def func(x):\n",
    "    return (1 / (1 + np.exp(-x)))"
   ]
  },
  {
   "cell_type": "code",
   "execution_count": 15,
   "metadata": {},
   "outputs": [],
   "source": [
    "##Apply the function on A\n",
    "result = np.apply_along_axis(func, 0, A)"
   ]
  },
  {
   "cell_type": "code",
   "execution_count": null,
   "metadata": {},
   "outputs": [
    {
     "name": "stdout",
     "output_type": "stream",
     "text": [
      "[[ 0.51486092]\n",
      " [ 0.68666653]\n",
      " [ 0.62064224]\n",
      " [ 0.50688608]\n",
      " [ 0.5468641 ]\n",
      " [ 0.50859714]\n",
      " [ 0.51198506]\n",
      " [ 0.70423422]\n",
      " [ 0.56234846]\n",
      " [ 0.63857207]]\n"
     ]
    }
   ],
   "source": [
    "##Print result\n",
    "print (result)"
   ]
  },
  {
   "cell_type": "code",
   "execution_count": null,
   "metadata": {
    "collapsed": true
   },
   "outputs": [],
   "source": [
    ""
   ]
  }
 ],
 "metadata": {
  "kernelspec": {
   "display_name": "Python 2",
   "language": "python",
   "name": "python2"
  },
  "language_info": {
   "codemirror_mode": {
    "name": "ipython",
    "version": 2.0
   },
   "file_extension": ".py",
   "mimetype": "text/x-python",
   "name": "python",
   "nbconvert_exporter": "python",
   "pygments_lexer": "ipython2",
   "version": "2.7.13"
  }
 },
 "nbformat": 4,
 "nbformat_minor": 0
}