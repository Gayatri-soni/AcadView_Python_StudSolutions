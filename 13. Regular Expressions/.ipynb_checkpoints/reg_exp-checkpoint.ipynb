{
 "cells": [
  {
   "cell_type": "markdown",
   "metadata": {},
   "source": [
    "## 1. Regular Expressions"
   ]
  },
  {
   "cell_type": "markdown",
   "metadata": {},
   "source": [
    "### If we want to Represent a group of strings following a particular pattern, then we should go for Regular Expression.\n",
    "\n",
    "#### A regular expression is a special sequence of characters that helps you match or find other strings or sets of strings, using a specialized syntax held in a pattern. Regular expressions are widely used in UNIX world."
   ]
  },
  {
   "cell_type": "markdown",
   "metadata": {},
   "source": [
    "Try to solve all the interactive tutorial from below mentioned website:\n",
    "\n",
    "https://regexone.com/lesson/introduction_abcs"
   ]
  },
  {
   "cell_type": "code",
   "execution_count": 19,
   "metadata": {},
   "outputs": [],
   "source": [
    "# \"\"\"\n",
    "# Meta Characters...\n",
    "\n",
    "# .       - Any Character Except New Line (\\n)\n",
    "# \\d      - Digit (0-9)\n",
    "# \\D      - Not a Digit (0-9)\n",
    "# \\w      - Word Character (a-z, A-Z, 0-9, _) (Alphanum Characters.)\n",
    "# \\W      - Not a Word Character (Except alphanum characters.)\n",
    "# \\s      - Whitespace (space, tab, newline)\n",
    "# \\S      - Not Whitespace (space, tab, newline)\n",
    "\n",
    "\n",
    "\n",
    "# \\b      - Word Boundary\n",
    "# \\B      - Not a Word Boundary\n",
    "# ^       - Beginning of a String\n",
    "# $       - End of a String\n",
    "\n",
    "\n",
    "# Character Classes.\n",
    "\n",
    "# []      - Matches Characters in brackets      ex. [abc] Matches a or b or c.  , [a-z],[A-Z]  Matches all charcters btw a to z                                                    and A to z Correspondingly.\n",
    "\n",
    "# [^ ]    - Matches Characters NOT in brackets   ex. [^abc] Matches everything except a and b and c (a&b&c)\n",
    "# |       - Either Or\n",
    "# ( )     - Group\n",
    "\n",
    "# Quantifiers:\n",
    "# *       - Matches  0 or More Characters . example a*   0a, 1a,2a,3a,,,,,\n",
    "# +       - Matches atleast 1 or More Characters. example a+     a,aa,aaa,aaaa,aaaaa,,,,,\n",
    "# ?       - 0 or One\n",
    "# {3}     - Matches Upto Exact Number of Characters.  a{3}  matches exactly aaa...\n",
    "# {3,4}   - Range of Numbers (Minimum, Maximum)   a{n,m}  matches atleast n and atmost m    a{2,5}  matches aa,aaa,aaa,aaaa,aaaaa                                                                                                     not matches a, aaaaaa,,,,, \n",
    "\n",
    "\n",
    "# \"\"\"\n",
    "# Regular Expressions\n",
    "# ^      Start\n",
    "# $      Stop\n",
    "# .      Any character\n",
    "# *      Match one character 0+ times\n",
    "# +      Match one character 1+ times\n",
    "# ?      Non-greedy\n",
    "# \\s     Whitespace\n",
    "# \\S     Non-whitespace\n",
    "# [abc]  Match one character in the specified set\n",
    "# [^abc] Match one character not in the specified set\n",
    "# abc…\tLetters\n",
    "# 123…\tDigits\n",
    "# \\d\tAny Digit\n",
    "# \\D\tAny Non-digit character\n",
    "# .\tAny Character\n",
    "# \\.\tPeriod\n",
    "# [abc]\tOnly a, b, or c\n",
    "# [^abc]\tNot a, b, nor c\n",
    "# [a-z]\tCharacters a to z\n",
    "# [0-9]\tNumbers 0 to 9\n",
    "# \\w\tAny Alphanumeric character\n",
    "# \\W\tAny Non-alphanumeric character\n",
    "# {m}\tm Repetitions\n",
    "# {m,n}\tm to n Repetitions\n",
    "# *\tZero or more repetitions\n",
    "# +\tOne or more repetitions\n",
    "# ?\tOptional character\n",
    "# \\s\tAny Whitespace\n",
    "# \\S\tAny Non-whitespace character\n",
    "# ^…$\tStarts and ends\n",
    "# (…)\tCapture Group\n",
    "# (a(bc))\tCapture Sub-group\n",
    "# (.*)\tCapture all\n",
    "# (abc|def)\tMatches abc or def\n",
    "# \"\"\"\n",
    "\n",
    "\n",
    "# #### Sample Regexs ####\n",
    "\n",
    "# [a-zA-Z0-9_.+-]+@[a-zA-Z0-9-]+\\.[a-zA-Z0-9-.]+\n",
    "\n",
    "# \"\"\""
   ]
  },
  {
   "cell_type": "code",
   "execution_count": 20,
   "metadata": {},
   "outputs": [],
   "source": [
    "# [a-zA-Z0-9] Matches all Alphanumeric characters.\n",
    "# [a-zA-Z] Matches all Alphabetical characters.\n",
    "# [^Aa-zA-Z0-9] matches all characters(Except aphanumeric) i.e. all special characters."
   ]
  },
  {
   "cell_type": "markdown",
   "metadata": {},
   "source": [
    "## Wap To Find Pattern for All possible cases of Identifiers(Following the identifier Concept)"
   ]
  },
  {
   "cell_type": "code",
   "execution_count": 21,
   "metadata": {},
   "outputs": [],
   "source": [
    "# ^[_a-zA-Z][_a-zA-Z0-9]*\n",
    "\n",
    "# Identifier is Something Starts With _ ,or a-z any character set btw, A-z And the next character may be _,A-Z a-z, Or 0-9 may be zero or more times."
   ]
  },
  {
   "cell_type": "markdown",
   "metadata": {},
   "source": [
    "## Wap To Find Pattern for Contact Number (Starts From 6-9 and it is a 10 digit Number)"
   ]
  },
  {
   "cell_type": "code",
   "execution_count": 22,
   "metadata": {},
   "outputs": [],
   "source": [
    "# ^[6-9][0-9]{9}\n",
    "\n",
    "# ^[6-9]\\d{9}"
   ]
  },
  {
   "cell_type": "markdown",
   "metadata": {},
   "source": [
    "## Wap To Match Email Pattern (Starts From A-Z,a-z,0-9 Follows @,and Ends with domain name.)"
   ]
  },
  {
   "cell_type": "code",
   "execution_count": 23,
   "metadata": {},
   "outputs": [],
   "source": [
    "# Starting From alphanumeric Character , Folllows [_a-zA-Z0-9.]*,Follows (@)(gmail.com|yahoo.com)$"
   ]
  },
  {
   "cell_type": "markdown",
   "metadata": {},
   "source": [
    "### STEP-1 : Create pattern object"
   ]
  },
  {
   "cell_type": "code",
   "execution_count": 24,
   "metadata": {},
   "outputs": [],
   "source": [
    "# Firstly we have to import the Moduule of regular expression re module.\n",
    "# using finditern to pass pattern and string to match cases.\n"
   ]
  },
  {
   "cell_type": "code",
   "execution_count": 2,
   "metadata": {
    "ExecuteTime": {
     "end_time": "2018-06-07T05:21:44.171122Z",
     "start_time": "2018-06-07T05:21:44.165136Z"
    }
   },
   "outputs": [
    {
     "name": "stdout",
     "output_type": "stream",
     "text": [
      "<class '_sre.SRE_Pattern'>\n"
     ]
    }
   ],
   "source": [
    "# compile() -> convert the pattern into regex object\n",
    "\n",
    "import re\n",
    "\n",
    "pattern = re.compile('Python')\n",
    "\n",
    "print(type(pattern))"
   ]
  },
  {
   "cell_type": "markdown",
   "metadata": {},
   "source": [
    "### STEP-2 : Create Matcher object"
   ]
  },
  {
   "cell_type": "code",
   "execution_count": 5,
   "metadata": {
    "ExecuteTime": {
     "end_time": "2018-06-07T05:21:53.105420Z",
     "start_time": "2018-06-07T05:21:53.100434Z"
    }
   },
   "outputs": [
    {
     "name": "stdout",
     "output_type": "stream",
     "text": [
      "<class 'callable_iterator'>\n"
     ]
    }
   ],
   "source": [
    "# finditer() -> we can check how many matcher are available\n",
    "\n",
    "matcher = pattern.finditer('I Python am learning python Regex in Python!')\n",
    "\n",
    "print(type(matcher))\n"
   ]
  },
  {
   "cell_type": "markdown",
   "metadata": {},
   "source": [
    "### STEP-3 : Iterate over the Matcher"
   ]
  },
  {
   "cell_type": "code",
   "execution_count": 4,
   "metadata": {
    "ExecuteTime": {
     "end_time": "2018-06-07T05:22:27.107742Z",
     "start_time": "2018-06-07T05:22:27.102753Z"
    }
   },
   "outputs": [
    {
     "name": "stdout",
     "output_type": "stream",
     "text": [
      "<class '_sre.SRE_Match'>\n",
      "Match is at:2, End:8, Pattern found: Python\n",
      "<class '_sre.SRE_Match'>\n",
      "Match is at:37, End:43, Pattern found: Python\n",
      "DONE!!\n"
     ]
    }
   ],
   "source": [
    "# start() -> starting index of matched string\n",
    "# end() -> end+1 index\n",
    "# group() -> returns matched sring\n",
    "for m in matcher:\n",
    "    print(type(m))\n",
    "    print('Match is at:{}, End:{}, Pattern found: {}'.format(m.start(), m.end(), m.group()))\n",
    "print('DONE!!')\n"
   ]
  },
  {
   "cell_type": "markdown",
   "metadata": {},
   "source": [
    "## 2. Using Various Combinations"
   ]
  },
  {
   "cell_type": "code",
   "execution_count": 5,
   "metadata": {
    "ExecuteTime": {
     "end_time": "2018-06-07T05:24:58.259291Z",
     "start_time": "2018-06-07T05:24:58.254301Z"
    }
   },
   "outputs": [
    {
     "name": "stdout",
     "output_type": "stream",
     "text": [
      "Match is at:0, End:2, Pattern found: ab\n",
      "Match is at:3, End:5, Pattern found: ab\n",
      "Match is at:5, End:7, Pattern found: ab\n",
      "Total count:  3\n"
     ]
    }
   ],
   "source": [
    "matcher = re.finditer('ab', 'abaababa')\n",
    "\n",
    "count = 0\n",
    "\n",
    "for m in matcher:\n",
    "    count += 1\n",
    "    print('Match is at:{}, End:{}, Pattern found: {}'.format(m.start(), m.end(), m.group()))\n",
    "print('Total count: ',count)"
   ]
  },
  {
   "cell_type": "code",
   "execution_count": 29,
   "metadata": {
    "ExecuteTime": {
     "end_time": "2018-06-07T02:17:22.036827Z",
     "start_time": "2018-06-07T02:17:22.021800Z"
    }
   },
   "outputs": [
    {
     "name": "stdout",
     "output_type": "stream",
     "text": [
      "Match is at:1, End:3, Pattern found: ba\n",
      "Match is at:4, End:6, Pattern found: ba\n",
      "Match is at:6, End:8, Pattern found: ba\n",
      "Total count:  3\n"
     ]
    }
   ],
   "source": [
    "matcher = re.finditer('ba', 'abaababa')\n",
    "\n",
    "count = 0\n",
    "\n",
    "for m in matcher:\n",
    "    count += 1\n",
    "    print('Match is at:{}, End:{}, Pattern found: {}'.format(m.start(), m.end(), m.group()))\n",
    "print('Total count: ',count)"
   ]
  },
  {
   "cell_type": "code",
   "execution_count": 7,
   "metadata": {
    "ExecuteTime": {
     "end_time": "2018-06-07T02:18:37.371274Z",
     "start_time": "2018-06-07T02:18:37.361272Z"
    }
   },
   "outputs": [
    {
     "name": "stdout",
     "output_type": "stream",
     "text": [
      "Match is at: 0, End: 1, Pattern found: a\n",
      "Match is at: 2, End: 3, Pattern found: b\n",
      "Total count:  2\n"
     ]
    }
   ],
   "source": [
    "matcher = re.finditer('[abc]', 'a7b@ k9z')\n",
    "\n",
    "count = 0\n",
    "\n",
    "for m in matcher:\n",
    "    count += 1\n",
    "    print('Match is at: {}, End: {}, Pattern found: {}'.format(m.start(), m.end(), m.group()))\n",
    "print('Total count: ',count)"
   ]
  },
  {
   "cell_type": "code",
   "execution_count": 32,
   "metadata": {
    "ExecuteTime": {
     "end_time": "2018-06-07T02:19:14.833187Z",
     "start_time": "2018-06-07T02:19:14.823192Z"
    }
   },
   "outputs": [
    {
     "name": "stdout",
     "output_type": "stream",
     "text": [
      "Match is at: 0, End: 1, Pattern found: a\n",
      "Match is at: 2, End: 3, Pattern found: b\n",
      "Match is at: 5, End: 6, Pattern found: k\n",
      "Match is at: 7, End: 8, Pattern found: z\n",
      "Total count:  4\n"
     ]
    }
   ],
   "source": [
    "matcher = re.finditer('[a-z]', 'a7b@ k9z')\n",
    "\n",
    "count = 0\n",
    "\n",
    "for m in matcher:\n",
    "    count += 1\n",
    "    print('Match is at: {}, End: {}, Pattern found: {}'.format(m.start(), m.end(), m.group()))\n",
    "print('Total count: ',count)"
   ]
  },
  {
   "cell_type": "code",
   "execution_count": 33,
   "metadata": {
    "ExecuteTime": {
     "end_time": "2018-06-07T02:19:27.387351Z",
     "start_time": "2018-06-07T02:19:27.382352Z"
    }
   },
   "outputs": [
    {
     "name": "stdout",
     "output_type": "stream",
     "text": [
      "Match is at: 1, End: 2, Pattern found: 7\n",
      "Match is at: 3, End: 4, Pattern found: @\n",
      "Match is at: 4, End: 5, Pattern found:  \n",
      "Match is at: 6, End: 7, Pattern found: 9\n",
      "Total count:  4\n"
     ]
    }
   ],
   "source": [
    "matcher = re.finditer('[^a-z]', 'a7b@ k9z')\n",
    "\n",
    "count = 0\n",
    "\n",
    "for m in matcher:\n",
    "    count += 1\n",
    "    print('Match is at: {}, End: {}, Pattern found: {}'.format(m.start(), m.end(), m.group()))\n",
    "print('Total count: ',count)"
   ]
  },
  {
   "cell_type": "code",
   "execution_count": 34,
   "metadata": {
    "ExecuteTime": {
     "end_time": "2018-06-07T02:22:23.415113Z",
     "start_time": "2018-06-07T02:22:23.405118Z"
    }
   },
   "outputs": [
    {
     "name": "stdout",
     "output_type": "stream",
     "text": [
      "Match is at: 4, End: 5, Pattern found:  \n",
      "Total count:  1\n"
     ]
    }
   ],
   "source": [
    "matcher = re.finditer('\\s', 'a7b@ k9z')\n",
    "\n",
    "count = 0\n",
    "\n",
    "for m in matcher:\n",
    "    count += 1\n",
    "    print('Match is at: {}, End: {}, Pattern found: {}'.format(m.start(), m.end(), m.group()))\n",
    "print('Total count: ',count)"
   ]
  },
  {
   "cell_type": "code",
   "execution_count": 35,
   "metadata": {
    "ExecuteTime": {
     "end_time": "2018-06-07T02:22:30.758828Z",
     "start_time": "2018-06-07T02:22:30.753820Z"
    }
   },
   "outputs": [
    {
     "name": "stdout",
     "output_type": "stream",
     "text": [
      "Match is at: 0, End: 1, Pattern found: a\n",
      "Match is at: 1, End: 2, Pattern found: 7\n",
      "Match is at: 2, End: 3, Pattern found: b\n",
      "Match is at: 5, End: 6, Pattern found: k\n",
      "Match is at: 6, End: 7, Pattern found: 9\n",
      "Match is at: 7, End: 8, Pattern found: z\n",
      "Total count:  6\n"
     ]
    }
   ],
   "source": [
    "matcher = re.finditer('\\w', 'a7b@ k9z')\n",
    "\n",
    "count = 0\n",
    "\n",
    "for m in matcher:\n",
    "    count += 1\n",
    "    print('Match is at: {}, End: {}, Pattern found: {}'.format(m.start(), m.end(), m.group()))\n",
    "print('Total count: ',count)"
   ]
  },
  {
   "cell_type": "code",
   "execution_count": 36,
   "metadata": {
    "ExecuteTime": {
     "end_time": "2018-06-07T02:22:37.868641Z",
     "start_time": "2018-06-07T02:22:37.858647Z"
    }
   },
   "outputs": [
    {
     "name": "stdout",
     "output_type": "stream",
     "text": [
      "Match is at: 3, End: 4, Pattern found: @\n",
      "Match is at: 4, End: 5, Pattern found:  \n",
      "Total count:  2\n"
     ]
    }
   ],
   "source": [
    "matcher = re.finditer('\\W', 'a7b@ k9z')\n",
    "\n",
    "count = 0\n",
    "\n",
    "for m in matcher:\n",
    "    count += 1\n",
    "    print('Match is at: {}, End: {}, Pattern found: {}'.format(m.start(), m.end(), m.group()))\n",
    "print('Total count: ',count)"
   ]
  },
  {
   "cell_type": "code",
   "execution_count": 37,
   "metadata": {
    "ExecuteTime": {
     "end_time": "2018-06-07T02:23:00.635704Z",
     "start_time": "2018-06-07T02:23:00.630707Z"
    }
   },
   "outputs": [
    {
     "name": "stdout",
     "output_type": "stream",
     "text": [
      "Match is at: 0, End: 1, Pattern found: a\n",
      "Total count:  1\n"
     ]
    }
   ],
   "source": [
    "matcher = re.finditer('^a', 'a7b@ k9z')\n",
    "\n",
    "count = 0\n",
    "\n",
    "for m in matcher:\n",
    "    count += 1\n",
    "    print('Match is at: {}, End: {}, Pattern found: {}'.format(m.start(), m.end(), m.group()))\n",
    "print('Total count: ',count)"
   ]
  },
  {
   "cell_type": "code",
   "execution_count": 6,
   "metadata": {
    "ExecuteTime": {
     "end_time": "2018-06-07T05:30:25.898657Z",
     "start_time": "2018-06-07T05:30:25.893671Z"
    }
   },
   "outputs": [
    {
     "name": "stdout",
     "output_type": "stream",
     "text": [
      "Match is at: 7, End: 8, Pattern found: z\n",
      "Total count:  1\n"
     ]
    }
   ],
   "source": [
    "matcher = re.finditer('z$', 'a7b@ k9z')\n",
    "\n",
    "count = 0\n",
    "\n",
    "for m in matcher:\n",
    "    count += 1\n",
    "    print('Match is at: {}, End: {}, Pattern found: {}'.format(m.start(), m.end(), m.group()))\n",
    "print('Total count: ',count)"
   ]
  },
  {
   "cell_type": "code",
   "execution_count": 11,
   "metadata": {
    "ExecuteTime": {
     "end_time": "2018-06-07T02:24:41.182549Z",
     "start_time": "2018-06-07T02:24:41.177517Z"
    }
   },
   "outputs": [
    {
     "name": "stdout",
     "output_type": "stream",
     "text": [
      "Match is at: 0, End: 1, Pattern found: a\n",
      "Match is at: 2, End: 3, Pattern found: a\n",
      "Match is at: 3, End: 4, Pattern found: a\n",
      "Match is at: 5, End: 6, Pattern found: a\n",
      "Match is at: 7, End: 8, Pattern found: a\n",
      "Total count:  5\n"
     ]
    }
   ],
   "source": [
    "matcher = re.finditer('a', 'abaababa')\n",
    "\n",
    "count = 0\n",
    "\n",
    "for m in matcher:\n",
    "    count += 1\n",
    "    print('Match is at: {}, End: {}, Pattern found: {}'.format(m.start(), m.end(), m.group()))\n",
    "print('Total count: ',count)"
   ]
  },
  {
   "cell_type": "code",
   "execution_count": 12,
   "metadata": {
    "ExecuteTime": {
     "end_time": "2018-06-07T02:26:12.250559Z",
     "start_time": "2018-06-07T02:26:12.245564Z"
    }
   },
   "outputs": [
    {
     "name": "stdout",
     "output_type": "stream",
     "text": [
      "Match is at: 0, End: 1, Pattern found: a\n",
      "Match is at: 2, End: 4, Pattern found: aa\n",
      "Match is at: 5, End: 6, Pattern found: a\n",
      "Match is at: 7, End: 8, Pattern found: a\n",
      "Total count:  9\n"
     ]
    }
   ],
   "source": [
    "matcher = re.finditer('a+', 'abaababa')\n",
    "\n",
    "for m in matcher:\n",
    "    count += 1\n",
    "    print('Match is at: {}, End: {}, Pattern found: {}'.format(m.start(), m.end(), m.group()))\n",
    "print('Total count: ',count)"
   ]
  },
  {
   "cell_type": "code",
   "execution_count": 17,
   "metadata": {
    "ExecuteTime": {
     "end_time": "2018-06-07T02:26:16.696799Z",
     "start_time": "2018-06-07T02:26:16.686770Z"
    }
   },
   "outputs": [
    {
     "name": "stdout",
     "output_type": "stream",
     "text": [
      "Match is at: 0, End: 1, Pattern found: a\n",
      "Match is at: 1, End: 1, Pattern found: \n",
      "Match is at: 2, End: 4, Pattern found: aa\n",
      "Match is at: 4, End: 4, Pattern found: \n",
      "Match is at: 5, End: 6, Pattern found: a\n",
      "Match is at: 6, End: 6, Pattern found: \n",
      "Match is at: 7, End: 8, Pattern found: a\n",
      "Match is at: 8, End: 8, Pattern found: \n"
     ]
    }
   ],
   "source": [
    "# String also matches the null character at the end .\n",
    "matcher = re.finditer('a*', 'abaababa')\n",
    "\n",
    "for m in matcher:\n",
    "   \n",
    "    print('Match is at: {}, End: {}, Pattern found: {}'.format(m.start(), m.end(), m.group()))\n"
   ]
  },
  {
   "cell_type": "code",
   "execution_count": 15,
   "metadata": {
    "ExecuteTime": {
     "end_time": "2018-06-07T02:26:39.569564Z",
     "start_time": "2018-06-07T02:26:39.559569Z"
    }
   },
   "outputs": [
    {
     "name": "stdout",
     "output_type": "stream",
     "text": [
      "Match is at: 0, End: 1, Pattern found: a\n",
      "Match is at: 1, End: 1, Pattern found: \n",
      "Match is at: 2, End: 3, Pattern found: a\n",
      "Match is at: 3, End: 4, Pattern found: a\n",
      "Match is at: 4, End: 4, Pattern found: \n",
      "Match is at: 5, End: 6, Pattern found: a\n",
      "Match is at: 6, End: 6, Pattern found: \n",
      "Match is at: 7, End: 8, Pattern found: a\n",
      "Match is at: 8, End: 8, Pattern found: \n"
     ]
    }
   ],
   "source": [
    "matcher = re.finditer('a?', 'abaababa')\n",
    "\n",
    "for m in matcher:\n",
    "    print('Match is at: {}, End: {}, Pattern found: {}'.format(m.start(), m.end(), m.group()))"
   ]
  },
  {
   "cell_type": "markdown",
   "metadata": {},
   "source": [
    "## Using regular expression methods\n",
    "\n",
    "### The \"re\" package provides several methods to actually perform queries on an input string. The method we going to see are\n",
    "\n",
    "* re.match()\n",
    "* re.search()\n",
    "* re.findall()\n",
    "\n",
    "**Note: Based on the regular expressions, Python offers two different primitive operations. The match method checks for a match only at the beginning of the string while search checks for a match anywhere in the string.**"
   ]
  },
  {
   "cell_type": "markdown",
   "metadata": {},
   "source": [
    "### Using re.match()\n",
    "\n",
    "* The match function is used to match the RE pattern to string with optional flags. To check match for each element in the list or string, we run the forloop."
   ]
  },
  {
   "cell_type": "markdown",
   "metadata": {},
   "source": [
    "## Match Function re.match(pattern,target string,Flag)"
   ]
  },
  {
   "cell_type": "code",
   "execution_count": 6,
   "metadata": {
    "ExecuteTime": {
     "end_time": "2018-06-07T05:38:08.010867Z",
     "start_time": "2018-06-07T05:37:51.582824Z"
    }
   },
   "outputs": [
    {
     "name": "stdout",
     "output_type": "stream",
     "text": [
      "Enter pattern: abc\n",
      "Match found at beginning of the string.\n",
      "Match is at: 0, End: 3, Pattern found: abc\n",
      "<_sre.SRE_Match object; span=(0, 3), match='abc'>\n"
     ]
    }
   ],
   "source": [
    "#It always matches the expression at the beginning of target string.\n",
    "#Pattern is our regular expression,Target is our string.\n",
    "# Used to match the given pattern at the beginning of the target string. and finditer iterates over whole string.\n",
    "# If it finds the pattern than returns match object.\n",
    "# Now we can use start(), end(), group() with match object\n",
    "# If nothing found then retuns None.\n",
    "\n",
    "# Importing the regular expression module\n",
    "import re\n",
    "\n",
    "s = input('Enter pattern: ')\n",
    "\n",
    "m = re.match(s, 'abcdefgh')\n",
    "\n",
    "if m != None:\n",
    "    print('Match found at beginning of the string.')\n",
    "    print('Match is at: {}, End: {}, Pattern found: {}'.format(m.start(), m.end(), m.group()))\n",
    "    print(m)   # stored in m variable object and Prints the match object.\n",
    "\n",
    "else:\n",
    "    print('Match is not available at beginning of the string!')\n",
    "    print(m)   # Prints the match object as None if match not found\n",
    "    \n"
   ]
  },
  {
   "cell_type": "markdown",
   "metadata": {},
   "source": [
    "### Finding Pattern in Text (re.search())\n",
    "* A regular expression is commonly used to search for a pattern in a text. This method takes a regular expression pattern and a string and searches for that pattern with the string.\n",
    "\n",
    "* In order to use search() function, you need to import re first and then execute the code. The search() function takes the \"pattern\" and \"text\" to scan from our main string and returns a match object when the pattern is found or else not match if the pattern is not found."
   ]
  },
  {
   "cell_type": "markdown",
   "metadata": {},
   "source": [
    "## re.search()"
   ]
  },
  {
   "cell_type": "code",
   "execution_count": 10,
   "metadata": {
    "ExecuteTime": {
     "end_time": "2018-06-07T05:40:19.936797Z",
     "start_time": "2018-06-07T05:40:08.915846Z"
    }
   },
   "outputs": [
    {
     "name": "stdout",
     "output_type": "stream",
     "text": [
      "Enter pattern: ab\n",
      "Match available.\n",
      "First occurance is at: 0, End: 2, Pattern found: ab\n",
      "<_sre.SRE_Match object; span=(0, 2), match='ab'>\n"
     ]
    }
   ],
   "source": [
    "# search the target irrespective of the location\n",
    "# If match is found returns the first occurance of the pattern.\n",
    "# otherwie returns None.\n",
    "\n",
    "# If it finds the pattern than returns match object.\n",
    "# Now we can use start(), end(), group() with match object\n",
    "# If nothing found then retuns None.\n",
    "\n",
    "\n",
    "import re\n",
    "\n",
    "s = input('Enter pattern: ')\n",
    "\n",
    "m = re.search(s, 'abaabaaab')\n",
    "\n",
    "if m != None:\n",
    "    print('Match available.')\n",
    "    print('First occurance is at: {}, End: {}, Pattern found: {}'.format(m.start(), m.end(), m.group()))\n",
    "    print(m)   # stored in m variable object and Prints the match object.\n",
    "\n",
    "else:\n",
    "    print('Match is not available in the whole string!')\n",
    "    print(m)   # Prints the match object as None if match not found\n",
    "    \n"
   ]
  },
  {
   "cell_type": "markdown",
   "metadata": {},
   "source": [
    "### Using re.findall for text\n",
    "\n",
    "* Re.findall() module is used when you want to iterate over the lines of the file, it will return a list of all the matches in a single step. For example, here we have an e-mail addresses contained in a string , and we want all the e-mail addresses to be fetched out from the list, we use the re.findall method. It will find all the e-mail addresses from the list."
   ]
  },
  {
   "cell_type": "markdown",
   "metadata": {},
   "source": [
    "## re.findall()"
   ]
  },
  {
   "cell_type": "code",
   "execution_count": 12,
   "metadata": {},
   "outputs": [
    {
     "name": "stdout",
     "output_type": "stream",
     "text": [
      "support@acadview.com\n",
      "xyz@github.com\n"
     ]
    }
   ],
   "source": [
    "import re\n",
    "email_address = \"Please contact us at: support@acadview.com, xyz@github.com\"\n",
    "\n",
    "#'addresses' is a list that stores all the possible match\n",
    "addresses = re.findall(r'[\\w\\.-]+@[\\w\\.-]+', email_address)\n",
    "for address in addresses: \n",
    "    print(address)"
   ]
  },
  {
   "cell_type": "code",
   "execution_count": 16,
   "metadata": {
    "ExecuteTime": {
     "end_time": "2018-06-07T02:38:32.621917Z",
     "start_time": "2018-06-07T02:38:32.616884Z"
    }
   },
   "outputs": [
    {
     "name": "stdout",
     "output_type": "stream",
     "text": [
      "['0', '2', '9', '1']\n",
      "['k']\n",
      "['M']\n",
      "['0', '@', 'k', '2', '9', '-', '1']\n",
      "['0', '@', 'M', '2', '9', '-', '1']\n"
     ]
    }
   ],
   "source": [
    "# find all matches and returns a list\n",
    "\n",
    "lst = re.findall('[0-9]', '0@kM29-1')\n",
    "\n",
    "print(lst)\n",
    "\n",
    "lst = re.findall('[a-z]', '0@kM29-1')\n",
    "\n",
    "print(lst)\n",
    "\n",
    "lst = re.findall('[A-Z]', '0@kM29-1')\n",
    "\n",
    "print(lst)\n",
    "\n",
    "lst = re.findall('[^A-Z]', '0@kM29-1')\n",
    "\n",
    "print(lst)\n",
    "\n",
    "lst = re.findall('[^a-z]', '0@kM29-1')\n",
    "print(lst)\n"
   ]
  },
  {
   "cell_type": "markdown",
   "metadata": {},
   "source": [
    "## re.match() vs re.search()\n",
    "\n",
    "### Python offers two different primitive operations based on regular expressions: match checks for a match only at the beginning of the string, while search checks for a match anywhere in the string (this is what Perl does by default)."
   ]
  },
  {
   "cell_type": "code",
   "execution_count": 17,
   "metadata": {
    "ExecuteTime": {
     "end_time": "2018-06-07T02:56:46.205304Z",
     "start_time": "2018-06-07T02:56:46.195517Z"
    }
   },
   "outputs": [
    {
     "name": "stdout",
     "output_type": "stream",
     "text": [
      "No match\n",
      "Search successful\n"
     ]
    }
   ],
   "source": [
    "import re\n",
    "\n",
    "line = 'Cats are smarter than dogs'\n",
    "\n",
    "m = re.match('dogs', line)    # Match always matches the Starting.\n",
    "\n",
    "if m:\n",
    "    print('Match found at starting')\n",
    "else:\n",
    "    print('No match')\n",
    "\n",
    "s = re.search('dogs', line)   # Search can match at any locations.\n",
    "if s:\n",
    "    print('Search successful')\n",
    "else:\n",
    "    print('Nothing found')"
   ]
  },
  {
   "cell_type": "markdown",
   "metadata": {},
   "source": [
    "### Introducing Flag(IGNORECASE)\n",
    "\n",
    "*  Perform case-insensitive matching; expressions like [A-Z] will also match lowercase letters. Full Unicode matching (such as Ü matching ü) also works unless the re.ASCII flag is used to disable non-ASCII matches. \n",
    "\n",
    "\n",
    "* Note that when the Unicode patterns [a-z] or [A-Z] are used in combination with the IGNORECASE flag, they will match the 52 ASCII letters and 4 additional non-ASCII letters: ‘İ’ (U+0130, Latin capital letter I with dot above), ‘ı’ (U+0131, Latin small letter dotless i), ‘ſ’ (U+017F, Latin small letter long s) and ‘K’ (U+212A, Kelvin sign). If the ASCII flag is used, only letters ‘a’ to ‘z’ and ‘A’ to ‘Z’ are matched."
   ]
  },
  {
   "cell_type": "code",
   "execution_count": 27,
   "metadata": {},
   "outputs": [
    {
     "name": "stdout",
     "output_type": "stream",
     "text": [
      "No match Found as we are Not using IGNORECASE Flag.\n",
      "\n",
      "Match found at starting Here We are using IGNORECASE Flag.\n",
      "\n"
     ]
    }
   ],
   "source": [
    "\n",
    "import re\n",
    "\n",
    "line = 'Cats are smarter than dogs \\n dogs are not smarter than Cats.'\n",
    "\n",
    "\n",
    "y = re.match('cats', line)    \n",
    "if y:\n",
    "    print('Match found at starting')\n",
    "else:\n",
    "    print('No match Found as we are Not using IGNORECASE Flag.')\n",
    "    \n",
    "print()\n",
    "# Introducing IGNOREALL Flag.\n",
    "\n",
    "x = re.match('cats', line, re.IGNORECASE)    \n",
    "if x:\n",
    "    print('Match found at starting Here We are using IGNORECASE Flag.')\n",
    "else:\n",
    "    print('No match')\n",
    "\n",
    "print()\n",
    " \n"
   ]
  },
  {
   "cell_type": "markdown",
   "metadata": {},
   "source": [
    "### Example of re.M or Multiline Flags\n",
    "\n",
    "* In multiline the pattern character [^] match the first character of the string and the beginning of each line (following immediately after the each newline). While expression small \"w\" is used to mark the space with characters. When you run the code the first variable \"k1\" only prints out the character 'g' for word guru99, while when you add multiline flag, it fetches out first characters of all the elements in the string."
   ]
  },
  {
   "cell_type": "code",
   "execution_count": 37,
   "metadata": {},
   "outputs": [
    {
     "name": "stdout",
     "output_type": "stream",
     "text": [
      "['m']\n",
      "['m', 'D', 'M']\n"
     ]
    }
   ],
   "source": [
    "import re\n",
    "multiline = \"\"\"mukeshdubey1420 \n",
    "Dubey\n",
    "Mukesh@1420\"\"\"\n",
    "\n",
    "k1 = re.findall(r\"^\\w\", multiline)\n",
    "k2 = re.findall(r\"^\\w\", multiline, re.MULTILINE)\n",
    "\n",
    "print(k1)\n",
    "print(k2)\n"
   ]
  },
  {
   "cell_type": "markdown",
   "metadata": {},
   "source": [
    "## Search and Replace"
   ]
  },
  {
   "cell_type": "code",
   "execution_count": 55,
   "metadata": {
    "ExecuteTime": {
     "end_time": "2018-06-07T03:09:22.948642Z",
     "start_time": "2018-06-07T03:09:22.941970Z"
    }
   },
   "outputs": [
    {
     "name": "stdout",
     "output_type": "stream",
     "text": [
      "a#b#j#k#h#\n"
     ]
    }
   ],
   "source": [
    "# re.sub(regex, replacement, targetString)\n",
    "\n",
    "import re\n",
    "\n",
    "s = re.sub('\\d', '#', 'a7b6j9k2h4')\n",
    "\n",
    "print(s)"
   ]
  },
  {
   "cell_type": "code",
   "execution_count": 67,
   "metadata": {
    "ExecuteTime": {
     "end_time": "2018-06-07T03:24:38.470165Z",
     "start_time": "2018-06-07T03:24:38.460338Z"
    }
   },
   "outputs": [
    {
     "name": "stdout",
     "output_type": "stream",
     "text": [
      "Phone num:  1233-123-345 # This is a phone\n",
      "Phone num:  1233-123-345 \n",
      "Phone num:  1233123345\n"
     ]
    }
   ],
   "source": [
    "# re.sub(regex, replacement, targetString)\n",
    "\n",
    "import re\n",
    "\n",
    "phone = '1233-123-345 # This is a phone'\n",
    "\n",
    "print('Phone num: ', phone)\n",
    "\n",
    "num = re.sub('#.*$', '', phone)\n",
    "\n",
    "print('Phone num: ',num)\n",
    "\n",
    "num = re.sub('\\D', '', phone)\n",
    "\n",
    "print('Phone num: ', num)"
   ]
  },
  {
   "cell_type": "markdown",
   "metadata": {},
   "source": [
    "## re.split()"
   ]
  },
  {
   "cell_type": "code",
   "execution_count": 42,
   "metadata": {
    "ExecuteTime": {
     "end_time": "2018-06-07T03:12:31.994925Z",
     "start_time": "2018-06-07T03:12:31.989166Z"
    }
   },
   "outputs": [
    {
     "name": "stdout",
     "output_type": "stream",
     "text": [
      "['Hello', 'I', 'am', 'Learning', 'Python', 'Regex.']\n",
      "Hello I am Learning Python Regex.\n"
     ]
    }
   ],
   "source": [
    "import re\n",
    "\n",
    "l = re.split('-', 'Hello-I-am-Learning-Python-Regex.')\n",
    "\n",
    "print(l)\n",
    "print(\" \".join(l))"
   ]
  },
  {
   "cell_type": "code",
   "execution_count": 11,
   "metadata": {
    "ExecuteTime": {
     "end_time": "2018-06-07T05:47:38.918176Z",
     "start_time": "2018-06-07T05:47:38.913083Z"
    }
   },
   "outputs": [
    {
     "name": "stdout",
     "output_type": "stream",
     "text": [
      "['www', 'facebook', 'com']\n"
     ]
    }
   ],
   "source": [
    "import re\n",
    "\n",
    "l = re.split('[.]', 'www.facebook.com')\n",
    "\n",
    "print(l)\n",
    "\n",
    "## \\., [.]"
   ]
  },
  {
   "cell_type": "code",
   "execution_count": 14,
   "metadata": {
    "ExecuteTime": {
     "end_time": "2018-06-07T05:48:53.762406Z",
     "start_time": "2018-06-07T05:48:53.753430Z"
    }
   },
   "outputs": [
    {
     "name": "stdout",
     "output_type": "stream",
     "text": [
      "['abcdefg', 'gmail', 'com']\n"
     ]
    }
   ],
   "source": [
    "import re\n",
    "\n",
    "l = re.split('\\W', 'abcdefg@gmail.com')\n",
    "\n",
    "print(l)"
   ]
  },
  {
   "cell_type": "markdown",
   "metadata": {},
   "source": [
    "## Other Examples"
   ]
  },
  {
   "cell_type": "code",
   "execution_count": 16,
   "metadata": {
    "ExecuteTime": {
     "end_time": "2018-06-07T05:49:56.456856Z",
     "start_time": "2018-06-07T05:49:56.445886Z"
    }
   },
   "outputs": [
    {
     "name": "stdout",
     "output_type": "stream",
     "text": [
      "Cool!!\n"
     ]
    }
   ],
   "source": [
    "# re.IGNORECASE flag\n",
    "\n",
    "import re\n",
    "\n",
    "s = 'I am learning Python'\n",
    "\n",
    "m = re.search('Python$', s)\n",
    "\n",
    "if m:\n",
    "    print('Cool!!')\n",
    "    \n",
    "else:\n",
    "    print('Not Cool!!')"
   ]
  },
  {
   "cell_type": "code",
   "execution_count": 19,
   "metadata": {
    "ExecuteTime": {
     "end_time": "2018-06-07T05:53:01.499694Z",
     "start_time": "2018-06-07T05:52:53.528493Z"
    }
   },
   "outputs": [
    {
     "name": "stdout",
     "output_type": "stream",
     "text": [
      "Enter any identifier to validate: 2two\n",
      "2two not valid\n"
     ]
    }
   ],
   "source": [
    "# # Python Identifier\n",
    "\n",
    "import re\n",
    "\n",
    "s = input('Enter any identifier to validate: ')\n",
    "\n",
    "m = re.fullmatch('[a-zA-Z_]+[a-zA-Z0-9_]*', s)\n",
    "\n",
    "if m:\n",
    "    print(s, 'is Valid')\n",
    "else:\n",
    "    print(s, 'not valid')"
   ]
  },
  {
   "cell_type": "code",
   "execution_count": 77,
   "metadata": {
    "ExecuteTime": {
     "end_time": "2018-06-07T03:34:11.063383Z",
     "start_time": "2018-06-07T03:34:08.899387Z"
    }
   },
   "outputs": [
    {
     "name": "stdout",
     "output_type": "stream",
     "text": [
      "Enter a mobile number to validate: 123\n",
      "123 not valid\n"
     ]
    }
   ],
   "source": [
    "# Match Phone number\n",
    "\n",
    "import re\n",
    "\n",
    "s = input('Enter a mobile number to validate: ')\n",
    "\n",
    "m = re.fullmatch('[6-9]\\d{9}', s)\n",
    "\n",
    "if m:\n",
    "    print(s, 'is Valid')\n",
    "else:\n",
    "    print(s, 'not valid')"
   ]
  },
  {
   "cell_type": "markdown",
   "metadata": {},
   "source": [
    "### Groups."
   ]
  },
  {
   "cell_type": "code",
   "execution_count": 43,
   "metadata": {},
   "outputs": [
    {
     "name": "stdout",
     "output_type": "stream",
     "text": [
      "matchObj.group() :  Cats are smarter than dogs\n",
      "matchObj.group(1) :  Cats\n",
      "matchObj.group(2) :  smarter\n"
     ]
    }
   ],
   "source": [
    "import re\n",
    "\n",
    "line = \"Cats are smarter than dogs\"\n",
    "\n",
    "matchObj = re.match( r'(.*) are (.*?) .*', line, re.M|re.I)\n",
    "\n",
    "if matchObj:\n",
    "   print (\"matchObj.group() : \", matchObj.group())\n",
    "   print (\"matchObj.group(1) : \", matchObj.group(1))\n",
    "   print (\"matchObj.group(2) : \", matchObj.group(2))\n",
    "else:\n",
    "   print (\"No match!!\")"
   ]
  },
  {
   "cell_type": "code",
   "execution_count": 73,
   "metadata": {
    "ExecuteTime": {
     "end_time": "2018-06-07T03:31:19.291223Z",
     "start_time": "2018-06-07T03:31:19.284999Z"
    }
   },
   "outputs": [
    {
     "name": "stdout",
     "output_type": "stream",
     "text": [
      "Match found:  Cats are smarter than dogs\n"
     ]
    }
   ],
   "source": [
    "import re\n",
    "\n",
    "line = 'Cats are smarter than dogs'\n",
    "\n",
    "m = re.match('(.*) are (.*) .*', line)\n",
    "\n",
    "if m:\n",
    "    print('Match found: ', m.group())\n",
    "else:\n",
    "    print('No match')"
   ]
  },
  {
   "cell_type": "code",
   "execution_count": 44,
   "metadata": {},
   "outputs": [
    {
     "name": "stdout",
     "output_type": "stream",
     "text": [
      "searchObj.group() :  Cats are smarter than dogs\n",
      "searchObj.group(1) :  Cats\n",
      "searchObj.group(2) :  smarter\n"
     ]
    }
   ],
   "source": [
    "import re\n",
    "\n",
    "line = \"Cats are smarter than dogs\";\n",
    "\n",
    "searchObj = re.search( r'(.*) are (.*?) .*', line, re.M|re.I)\n",
    "\n",
    "if searchObj:\n",
    "   print (\"searchObj.group() : \", searchObj.group())\n",
    "   print (\"searchObj.group(1) : \", searchObj.group(1))\n",
    "   print (\"searchObj.group(2) : \", searchObj.group(2))\n",
    "else:\n",
    "   print (\"Nothing found!!\")"
   ]
  },
  {
   "cell_type": "code",
   "execution_count": null,
   "metadata": {},
   "outputs": [],
   "source": []
  }
 ],
 "metadata": {
  "kernelspec": {
   "display_name": "Python 3",
   "language": "python",
   "name": "python3"
  },
  "language_info": {
   "codemirror_mode": {
    "name": "ipython",
    "version": 3
   },
   "file_extension": ".py",
   "mimetype": "text/x-python",
   "name": "python",
   "nbconvert_exporter": "python",
   "pygments_lexer": "ipython3",
   "version": "3.6.0"
  },
  "toc": {
   "nav_menu": {},
   "number_sections": true,
   "sideBar": true,
   "skip_h1_title": false,
   "title_cell": "Table of Contents",
   "title_sidebar": "Contents",
   "toc_cell": false,
   "toc_position": {},
   "toc_section_display": true,
   "toc_window_display": false
  },
  "varInspector": {
   "cols": {
    "lenName": 16,
    "lenType": 16,
    "lenVar": 40
   },
   "kernels_config": {
    "python": {
     "delete_cmd_postfix": "",
     "delete_cmd_prefix": "del ",
     "library": "var_list.py",
     "varRefreshCmd": "print(var_dic_list())"
    },
    "r": {
     "delete_cmd_postfix": ") ",
     "delete_cmd_prefix": "rm(",
     "library": "var_list.r",
     "varRefreshCmd": "cat(var_dic_list()) "
    }
   },
   "types_to_exclude": [
    "module",
    "function",
    "builtin_function_or_method",
    "instance",
    "_Feature"
   ],
   "window_display": false
  }
 },
 "nbformat": 4,
 "nbformat_minor": 2
}
