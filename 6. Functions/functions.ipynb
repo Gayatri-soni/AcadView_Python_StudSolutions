{
 "cells": [
  {
   "cell_type": "code",
   "execution_count": 3,
   "metadata": {
    "ExecuteTime": {
     "end_time": "2018-05-29T06:39:16.857371Z",
     "start_time": "2018-05-29T06:39:16.681907Z"
    }
   },
   "outputs": [
    {
     "name": "stdout",
     "output_type": "stream",
     "text": [
      "1\n",
      "2\n",
      "4\n",
      "huraaaay!\n"
     ]
    },
    {
     "ename": "AttributeError",
     "evalue": "'list' object has no attribute 'discard'",
     "output_type": "error",
     "traceback": [
      "\u001b[1;31m------------------------------------------------------------------\u001b[0m",
      "\u001b[1;31mAttributeError\u001b[0m                   Traceback (most recent call last)",
      "\u001b[1;32m<ipython-input-3-7e2b8fd2869c>\u001b[0m in \u001b[0;36m<module>\u001b[1;34m()\u001b[0m\n\u001b[0;32m      9\u001b[0m     \u001b[0mprint\u001b[0m\u001b[1;33m(\u001b[0m\u001b[1;34m'huraaaay!'\u001b[0m\u001b[1;33m)\u001b[0m\u001b[1;33m\u001b[0m\u001b[0m\n\u001b[0;32m     10\u001b[0m \u001b[1;33m\u001b[0m\u001b[0m\n\u001b[1;32m---> 11\u001b[1;33m \u001b[0mlst\u001b[0m\u001b[1;33m.\u001b[0m\u001b[0mdiscard\u001b[0m\u001b[1;33m(\u001b[0m\u001b[1;36m3\u001b[0m\u001b[1;33m)\u001b[0m\u001b[1;33m\u001b[0m\u001b[0m\n\u001b[0m",
      "\u001b[1;31mAttributeError\u001b[0m: 'list' object has no attribute 'discard'"
     ]
    }
   ],
   "source": [
    "lst = [1,2,3,4]\n",
    "\n",
    "\n",
    "for item in lst:\n",
    "    if item == 3:\n",
    "        continue\n",
    "    print(item)\n",
    "else:\n",
    "    print('huraaaay!')\n",
    "    \n",
    "lst.discard(3)"
   ]
  },
  {
   "cell_type": "markdown",
   "metadata": {},
   "source": [
    "## Python Functions"
   ]
  },
  {
   "cell_type": "markdown",
   "metadata": {},
   "source": [
    "### Function Definition & Calling a Function"
   ]
  },
  {
   "cell_type": "code",
   "execution_count": 6,
   "metadata": {
    "ExecuteTime": {
     "end_time": "2018-05-29T06:56:09.081826Z",
     "start_time": "2018-05-29T06:56:09.078321Z"
    }
   },
   "outputs": [
    {
     "name": "stdout",
     "output_type": "stream",
     "text": [
      "Hello World\n"
     ]
    }
   ],
   "source": [
    "def myFirstFunction():\n",
    "    '''This is my first function. It will print Hello World always. Written in Tripple quotes..'''  \n",
    "    print('Hello World')\n",
    "    \n",
    "myFirstFunction()\n",
    "\n",
    "# try to change indentation and line of the code."
   ]
  },
  {
   "cell_type": "code",
   "execution_count": 7,
   "metadata": {
    "ExecuteTime": {
     "end_time": "2018-05-29T03:12:57.806089Z",
     "start_time": "2018-05-29T03:12:57.799554Z"
    }
   },
   "outputs": [
    {
     "name": "stdout",
     "output_type": "stream",
     "text": [
      "This is my first function. It will print Hello World always. Written in Tripple quotes..\n"
     ]
    }
   ],
   "source": [
    "print(myFirstFunction.__doc__)"
   ]
  },
  {
   "cell_type": "code",
   "execution_count": 8,
   "metadata": {
    "ExecuteTime": {
     "end_time": "2018-05-29T06:59:51.586341Z",
     "start_time": "2018-05-29T06:59:51.582833Z"
    }
   },
   "outputs": [
    {
     "name": "stdout",
     "output_type": "stream",
     "text": [
      "Return the tuple (x//y, x%y).  Invariant: div*y + mod == x.\n"
     ]
    }
   ],
   "source": [
    "print(divmod.__doc__)"
   ]
  },
  {
   "cell_type": "code",
   "execution_count": 10,
   "metadata": {},
   "outputs": [
    {
     "data": {
      "text/plain": [
       "(2, 1)"
      ]
     },
     "execution_count": 10,
     "metadata": {},
     "output_type": "execute_result"
    }
   ],
   "source": [
    "divmod(5,2)    # Accepts 2 Integers and Returns floor devision result and modulus. "
   ]
  },
  {
   "cell_type": "markdown",
   "metadata": {},
   "source": [
    "### Function With Arguments/Parameters"
   ]
  },
  {
   "cell_type": "code",
   "execution_count": 13,
   "metadata": {
    "ExecuteTime": {
     "end_time": "2018-05-28T16:41:59.478050Z",
     "start_time": "2018-05-28T16:41:59.466948Z"
    }
   },
   "outputs": [
    {
     "name": "stdout",
     "output_type": "stream",
     "text": [
      "Hello Chitkara ..How Are you ..??\n"
     ]
    }
   ],
   "source": [
    "# Function with arguments/parameter\n",
    "\n",
    "# (Arguments/Paramenters...--- at function calling we pass arguments, at function declaration we pass parameter/)\n",
    "\n",
    "def sayHello(name):   # Here we are passing parameter into the function..\n",
    "    '''This function wishes hello'''\n",
    "    print('Hello', name)\n",
    "    \n",
    "sayHello('Chitkara ..How Are you ..??')   # The thing We are passing at calling time is actual arguments or arguments.\n"
   ]
  },
  {
   "cell_type": "code",
   "execution_count": 15,
   "metadata": {
    "ExecuteTime": {
     "end_time": "2018-05-28T16:43:47.212524Z",
     "start_time": "2018-05-28T16:43:47.207303Z"
    }
   },
   "outputs": [
    {
     "name": "stdout",
     "output_type": "stream",
     "text": [
      "This function prints square\n",
      "The square of 10 is 100\n",
      "This function prints square\n",
      "The square of 5 is 25\n"
     ]
    }
   ],
   "source": [
    "# Write a function to take a number and square it\n",
    "\n",
    "# By default Function returns None statements.\n",
    "\n",
    "def square(num):\n",
    "    '''This function prints square'''\n",
    "    print(square.__doc__)\n",
    "    print('The square of {} is {}'.format(num, num**2))\n",
    "\n",
    "square(10)\n",
    "square(5)"
   ]
  },
  {
   "cell_type": "markdown",
   "metadata": {},
   "source": [
    "### Return Statement"
   ]
  },
  {
   "cell_type": "code",
   "execution_count": 16,
   "metadata": {
    "ExecuteTime": {
     "end_time": "2018-05-29T07:10:31.305919Z",
     "start_time": "2018-05-29T07:10:31.302411Z"
    }
   },
   "outputs": [
    {
     "name": "stdout",
     "output_type": "stream",
     "text": [
      "This function returns square\n",
      "100\n",
      "This function returns square\n",
      "25\n"
     ]
    }
   ],
   "source": [
    "def square(num):\n",
    "    '''This function returns square'''\n",
    "    print(square.__doc__)\n",
    "    return num*num\n",
    "\n",
    "x = square(10)\n",
    "print(x)\n",
    "print(square(5))\n"
   ]
  },
  {
   "cell_type": "code",
   "execution_count": 11,
   "metadata": {
    "ExecuteTime": {
     "end_time": "2018-05-29T07:13:09.063774Z",
     "start_time": "2018-05-29T07:13:09.059767Z"
    }
   },
   "outputs": [
    {
     "name": "stdout",
     "output_type": "stream",
     "text": [
      "Hello\n",
      "None\n"
     ]
    }
   ],
   "source": [
    "def fun():\n",
    "    print('Hello')\n",
    "\n",
    "print(fun())\n",
    "\n",
    "\"\"\"\n",
    "Firstly on calling function calls and output prints . and in print statement function returns None Statement coz it is a void return type.\n",
    "on calling the function in print statement , function always print the return statemnt ,if it is not declared it prints None.\n",
    "\n",
    "\"\"\""
   ]
  },
  {
   "cell_type": "code",
   "execution_count": 27,
   "metadata": {
    "ExecuteTime": {
     "end_time": "2018-05-28T17:05:24.757427Z",
     "start_time": "2018-05-28T17:05:24.751898Z"
    }
   },
   "outputs": [
    {
     "name": "stdout",
     "output_type": "stream",
     "text": [
      "\n",
      "    It is Multiple Return Type Function. Returns Multiple Statement.\n",
      "    \n",
      "The result of addition is  20 and Subtraction is 10 . \n"
     ]
    }
   ],
   "source": [
    "# Multiple Returns\n",
    "\n",
    "def add_sub(a,b):\n",
    "    \"\"\"\n",
    "    It is Multiple Return Type Function. Returns Multiple Statement.\n",
    "    \"\"\"\n",
    "    add = a+b\n",
    "    sub = a-b\n",
    "    print(add_sub.__doc__)\n",
    "    return add, sub\n",
    "\n",
    "addition, subtraction = add_sub(15,5)   \n",
    "\n",
    "print(\"The result of addition is  {} and Subtraction is {} . \" .format(addition ,subtraction))"
   ]
  },
  {
   "cell_type": "markdown",
   "metadata": {},
   "source": [
    "### Function Arguments"
   ]
  },
  {
   "cell_type": "code",
   "execution_count": 31,
   "metadata": {
    "ExecuteTime": {
     "end_time": "2018-05-29T07:21:31.064663Z",
     "start_time": "2018-05-29T07:21:31.052129Z"
    },
    "scrolled": true
   },
   "outputs": [
    {
     "name": "stdout",
     "output_type": "stream",
     "text": [
      "10\n",
      "-10\n"
     ]
    }
   ],
   "source": [
    "# Positional Argument\n",
    "\n",
    "\"\"\"\n",
    "Positional arguments should be passed to a function in correct positional order in which they defined.\n",
    "Number of argument and position of argument must be matched.\n",
    "if order changes we get different results. \n",
    "\n",
    "\"\"\"\n",
    "def sub(a, b):\n",
    "#     \"\"\"\n",
    "#     Positional arguments should be passed in the same order in which they defined.\n",
    "#     \"\"\"\n",
    "#     print(sub.__doc__)\n",
    "    return a - b\n",
    "print(sub(20,10))\n",
    "\n",
    "print(sub(10,20))\n",
    "\n",
    "\n",
    "# print(sub(20,10,10))  # Here We are passing 3 positional arguments but only 2 are required."
   ]
  },
  {
   "cell_type": "code",
   "execution_count": 38,
   "metadata": {
    "ExecuteTime": {
     "end_time": "2018-05-29T07:29:40.372159Z",
     "start_time": "2018-05-29T07:29:40.360127Z"
    },
    "scrolled": true
   },
   "outputs": [
    {
     "name": "stdout",
     "output_type": "stream",
     "text": [
      "Hello abc hurrraay!\n",
      "Hello abc hurrraay!\n",
      "Hello abc hurrraay!\n"
     ]
    }
   ],
   "source": [
    "# Keyword Argument\n",
    "\n",
    "\"\"\"\n",
    "Order is Not Important here. But Number of Arguments is important.\n",
    "They Use Parameters as arguments.\n",
    "\n",
    "\"\"\"\n",
    "\n",
    "def sayAnything(name, anything):\n",
    "    print('Hello', name, anything)\n",
    "\n",
    "sayAnything(name='abc', anything='hurrraay!')\n",
    "\n",
    "sayAnything(anything='hurrraay!', name='abc')\n",
    "\n",
    "\n",
    "sayAnything('abc', anything='hurrraay!')   # ABc is postional or required Argument which passing in name . Hurray is keyword argument.\n",
    "\n",
    "\n",
    "# Positional argument always follows positional arguments. \n"
   ]
  },
  {
   "cell_type": "code",
   "execution_count": 39,
   "metadata": {
    "ExecuteTime": {
     "end_time": "2018-05-29T07:32:02.041082Z",
     "start_time": "2018-05-29T07:32:02.031056Z"
    }
   },
   "outputs": [
    {
     "name": "stdout",
     "output_type": "stream",
     "text": [
      "Hello, abc hurray\n",
      "Hello, Guest Welcome\n"
     ]
    }
   ],
   "source": [
    "# Default Argument\n",
    "\n",
    "\"\"\"\n",
    "we can define default values to arguments .\n",
    "\n",
    "\n",
    "\"\"\"\n",
    "def sayAnything(name = 'Guest', anything='Welcome'):\n",
    "    print('Hello,', name, anything)\n",
    "\n",
    "sayAnything('abc', 'hurray')\n",
    "sayAnything()"
   ]
  },
  {
   "cell_type": "code",
   "execution_count": 18,
   "metadata": {
    "ExecuteTime": {
     "end_time": "2018-05-28T17:40:21.621257Z",
     "start_time": "2018-05-28T17:40:21.613168Z"
    }
   },
   "outputs": [
    {
     "name": "stdout",
     "output_type": "stream",
     "text": [
      "Name:  abc\n",
      "Age:  14\n",
      "Marks:  100\n",
      "Message:  Good Morning\n"
     ]
    }
   ],
   "source": [
    "def printInfo(marks, age, name='Guest', msg='Good Morning'):\n",
    "    print('Name: ', name)\n",
    "    print('Age: ', age)\n",
    "    print('Marks: ', marks)\n",
    "    print('Message: ', msg)\n",
    "\n",
    "printInfo(100, 14, 'abc')"
   ]
  },
  {
   "cell_type": "markdown",
   "metadata": {},
   "source": [
    "### Scope of Variables"
   ]
  },
  {
   "cell_type": "code",
   "execution_count": 40,
   "metadata": {
    "ExecuteTime": {
     "end_time": "2018-05-29T07:38:47.189368Z",
     "start_time": "2018-05-29T07:38:47.184856Z"
    }
   },
   "outputs": [
    {
     "name": "stdout",
     "output_type": "stream",
     "text": [
      "30\n",
      "30\n"
     ]
    }
   ],
   "source": [
    "# Global variable is accessible everywhere\n",
    "\n",
    "add = 0\n",
    "\n",
    "def sum(a,b):\n",
    "    add = a+b\n",
    "    print(add)\n",
    "    return add\n",
    "\n",
    "print(sum(10,20))\n",
    "\n",
    "# Ist output due to print statement inside Function.\n",
    "# 2Nd Output is due to returning the function value inside the print function outside."
   ]
  },
  {
   "cell_type": "code",
   "execution_count": 47,
   "metadata": {
    "ExecuteTime": {
     "end_time": "2018-05-29T07:39:54.039759Z",
     "start_time": "2018-05-29T07:39:54.027225Z"
    },
    "scrolled": true
   },
   "outputs": [
    {
     "name": "stdout",
     "output_type": "stream",
     "text": [
      "I am Declared Inside\n",
      "Addition of the required Number is  30\n",
      "\n",
      "I am Declared Outside \n"
     ]
    }
   ],
   "source": [
    "# Local Variable\n",
    "\n",
    "add = 0\n",
    "total = \"I am Declared Outside \"\n",
    "\n",
    "def sum(a,b):\n",
    "    total = a+b\n",
    "    print(\"I am Declared Inside\")\n",
    "    return total\n",
    "add = sum(10,20)\n",
    "print(\"Addition of the required Number is \", add)\n",
    "print()\n",
    "\n",
    "print(total)\n"
   ]
  },
  {
   "cell_type": "markdown",
   "metadata": {},
   "source": [
    "### Pass By Reference"
   ]
  },
  {
   "cell_type": "code",
   "execution_count": 48,
   "metadata": {
    "ExecuteTime": {
     "end_time": "2018-05-28T18:10:44.763863Z",
     "start_time": "2018-05-28T18:10:44.726402Z"
    }
   },
   "outputs": [
    {
     "name": "stdout",
     "output_type": "stream",
     "text": [
      "Inside Function:  [10, 20, 30, [1, 2, 3]]\n",
      "Main Program:  [10, 20, 30, [1, 2, 3]]\n"
     ]
    }
   ],
   "source": [
    "# Pass by reference\n",
    "\n",
    "# Python Follows The Pass By Reference . \n",
    "# Pass By value is not followed in Python \n",
    "\n",
    "def changeMe(lst):\n",
    "    '''Changes List'''\n",
    "    lst.append([1,2,3])\n",
    "    print('Inside Function: ', lst)\n",
    "\n",
    "lst = [10,20,30]\n",
    "changeMe(lst)\n",
    "print('Main Program: ', lst)"
   ]
  },
  {
   "cell_type": "code",
   "execution_count": 22,
   "metadata": {
    "ExecuteTime": {
     "end_time": "2018-05-28T18:11:51.778255Z",
     "start_time": "2018-05-28T18:11:51.762590Z"
    }
   },
   "outputs": [
    {
     "name": "stdout",
     "output_type": "stream",
     "text": [
      "Inside Function:  [1, 2, 3]\n",
      "Main Program:  [10, 20, 30]\n"
     ]
    }
   ],
   "source": [
    "def changeMe(lst):\n",
    "    '''Changes List'''\n",
    "    lst = [1, 2, 3]\n",
    "    print('Inside Function: ', lst)\n",
    "\n",
    "lst = [10, 20, 30]\n",
    "changeMe(lst)\n",
    "print('Main Program: ', lst)"
   ]
  },
  {
   "cell_type": "markdown",
   "metadata": {},
   "source": [
    "## Recursion"
   ]
  },
  {
   "cell_type": "markdown",
   "metadata": {},
   "source": [
    "A function calling itself. Recursive Functions.\n"
   ]
  },
  {
   "cell_type": "code",
   "execution_count": 28,
   "metadata": {
    "ExecuteTime": {
     "end_time": "2018-05-29T08:05:26.397403Z",
     "start_time": "2018-05-29T08:05:26.388377Z"
    }
   },
   "outputs": [
    {
     "name": "stdout",
     "output_type": "stream",
     "text": [
      "Factorial of 6 is 720\n"
     ]
    }
   ],
   "source": [
    "def factorial(num):\n",
    "    '''Recursive Function to find Factorial'''\n",
    "#     if num == 1:\n",
    "#         return 1\n",
    "#     else:\n",
    "#         return (num * factorial(num-1))\n",
    "    return 1 if num == 1 else (num * factorial(num-1))\n",
    "num = 6\n",
    "print('Factorial of {} is {}'.format(num, factorial(num)))"
   ]
  },
  {
   "cell_type": "code",
   "execution_count": 34,
   "metadata": {
    "ExecuteTime": {
     "end_time": "2018-05-28T18:48:35.454692Z",
     "start_time": "2018-05-28T18:48:35.444682Z"
    }
   },
   "outputs": [
    {
     "name": "stdout",
     "output_type": "stream",
     "text": [
      "0\n",
      "1\n",
      "1\n",
      "2\n",
      "3\n",
      "5\n",
      "8\n",
      "13\n",
      "21\n",
      "34\n"
     ]
    }
   ],
   "source": [
    "def fibonacci(num):\n",
    "    '''Recursive function to find Fibonacci Sequence'''\n",
    "    if num == 0 or num== 1:\n",
    "        return num\n",
    "    else:\n",
    "        return fibonacci(num-1) + fibonacci(num-2)\n",
    "    \n",
    "n = 10\n",
    "for num in range(n):\n",
    "    print(fibonacci(num))"
   ]
  },
  {
   "cell_type": "markdown",
   "metadata": {},
   "source": [
    "## Advantage of Recursive Functions.\n",
    "\n",
    "* Code Looks Clean\n",
    "* Complex Tak Breaks into Sub Problems"
   ]
  },
  {
   "cell_type": "markdown",
   "metadata": {},
   "source": [
    "## Disadvantages of Recursive Functions\n",
    "\n",
    "* For a beginner it is difficult to understand.\n",
    "* Expensive In terms of Complexity "
   ]
  },
  {
   "cell_type": "markdown",
   "metadata": {},
   "source": [
    "## Assignments"
   ]
  },
  {
   "cell_type": "markdown",
   "metadata": {},
   "source": [
    "Q.2- Write a function “perfect()” that determines if parameter number is a perfect number. Use this function in a program that determines and prints all the perfect numbers between 1 and 1000.\n",
    "[An integer number is said to be “perfect number” if its factors, including 1(but not the number itself), sum to the number. E.g., 6 is a perfect number because 6=1+2+3].\n",
    "\n",
    "Q.3- Print multiplication table of 12 using recursion. \n",
    "\n",
    "Q.4- Write a function to calculate power of a number raised to other ( a^b ) using recursion. \n",
    "\n",
    "Q.5- Write a function to find factorial of a number but also store the factorials calculated in a dictionary "
   ]
  },
  {
   "cell_type": "markdown",
   "metadata": {},
   "source": [
    "## Anonymous or Lambda Functions"
   ]
  },
  {
   "cell_type": "code",
   "execution_count": 37,
   "metadata": {
    "ExecuteTime": {
     "end_time": "2018-05-28T18:56:59.658953Z",
     "start_time": "2018-05-28T18:56:59.648942Z"
    }
   },
   "outputs": [
    {
     "name": "stdout",
     "output_type": "stream",
     "text": [
      "100\n"
     ]
    }
   ],
   "source": [
    "def square(num):\n",
    "    '''This function returns square'''\n",
    "    return num*num\n",
    "    \n",
    "x = square(10)\n",
    "print(x)"
   ]
  },
  {
   "cell_type": "code",
   "execution_count": 36,
   "metadata": {
    "ExecuteTime": {
     "end_time": "2018-05-28T18:56:02.239044Z",
     "start_time": "2018-05-28T18:56:02.234039Z"
    }
   },
   "outputs": [
    {
     "name": "stdout",
     "output_type": "stream",
     "text": [
      "25\n"
     ]
    }
   ],
   "source": [
    "square = lambda x : x**2\n",
    "print(square(5))"
   ]
  }
 ],
 "metadata": {
  "kernelspec": {
   "display_name": "Python 3",
   "language": "python",
   "name": "python3"
  },
  "language_info": {
   "codemirror_mode": {
    "name": "ipython",
    "version": 3
   },
   "file_extension": ".py",
   "mimetype": "text/x-python",
   "name": "python",
   "nbconvert_exporter": "python",
   "pygments_lexer": "ipython3",
   "version": "3.6.0"
  },
  "toc": {
   "nav_menu": {},
   "number_sections": true,
   "sideBar": true,
   "skip_h1_title": false,
   "title_cell": "Table of Contents",
   "title_sidebar": "Contents",
   "toc_cell": false,
   "toc_position": {},
   "toc_section_display": true,
   "toc_window_display": false
  },
  "varInspector": {
   "cols": {
    "lenName": 16,
    "lenType": 16,
    "lenVar": 40
   },
   "kernels_config": {
    "python": {
     "delete_cmd_postfix": "",
     "delete_cmd_prefix": "del ",
     "library": "var_list.py",
     "varRefreshCmd": "print(var_dic_list())"
    },
    "r": {
     "delete_cmd_postfix": ") ",
     "delete_cmd_prefix": "rm(",
     "library": "var_list.r",
     "varRefreshCmd": "cat(var_dic_list()) "
    }
   },
   "types_to_exclude": [
    "module",
    "function",
    "builtin_function_or_method",
    "instance",
    "_Feature"
   ],
   "window_display": false
  }
 },
 "nbformat": 4,
 "nbformat_minor": 2
}
